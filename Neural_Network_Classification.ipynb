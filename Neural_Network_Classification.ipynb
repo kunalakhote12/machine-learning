{
  "nbformat": 4,
  "nbformat_minor": 0,
  "metadata": {
    "colab": {
      "name": "Neural_Network_Classification.ipynb",
      "provenance": []
    },
    "kernelspec": {
      "name": "python3",
      "display_name": "Python 3"
    },
    "language_info": {
      "name": "python"
    }
  },
  "cells": [
    {
      "cell_type": "code",
      "execution_count": 3,
      "metadata": {
        "colab": {
          "base_uri": "https://localhost:8080/",
          "height": 81
        },
        "id": "R-VH_JYMvacP",
        "outputId": "851bb062-a2eb-42d0-ecc0-cd7b8f5e755f"
      },
      "outputs": [
        {
          "output_type": "execute_result",
          "data": {
            "text/plain": [
              "   Pregnancies  Glucose  BloodPressure  SkinThickness  Insulin   BMI  \\\n",
              "0            6      148             72             35        0  33.6   \n",
              "\n",
              "   DiabetesPedigreeFunction  Age  Outcome  \n",
              "0                     0.627   50        1  "
            ],
            "text/html": [
              "\n",
              "  <div id=\"df-ed6b0ac5-3bc8-4e86-bcf2-931f36c962b7\">\n",
              "    <div class=\"colab-df-container\">\n",
              "      <div>\n",
              "<style scoped>\n",
              "    .dataframe tbody tr th:only-of-type {\n",
              "        vertical-align: middle;\n",
              "    }\n",
              "\n",
              "    .dataframe tbody tr th {\n",
              "        vertical-align: top;\n",
              "    }\n",
              "\n",
              "    .dataframe thead th {\n",
              "        text-align: right;\n",
              "    }\n",
              "</style>\n",
              "<table border=\"1\" class=\"dataframe\">\n",
              "  <thead>\n",
              "    <tr style=\"text-align: right;\">\n",
              "      <th></th>\n",
              "      <th>Pregnancies</th>\n",
              "      <th>Glucose</th>\n",
              "      <th>BloodPressure</th>\n",
              "      <th>SkinThickness</th>\n",
              "      <th>Insulin</th>\n",
              "      <th>BMI</th>\n",
              "      <th>DiabetesPedigreeFunction</th>\n",
              "      <th>Age</th>\n",
              "      <th>Outcome</th>\n",
              "    </tr>\n",
              "  </thead>\n",
              "  <tbody>\n",
              "    <tr>\n",
              "      <th>0</th>\n",
              "      <td>6</td>\n",
              "      <td>148</td>\n",
              "      <td>72</td>\n",
              "      <td>35</td>\n",
              "      <td>0</td>\n",
              "      <td>33.6</td>\n",
              "      <td>0.627</td>\n",
              "      <td>50</td>\n",
              "      <td>1</td>\n",
              "    </tr>\n",
              "  </tbody>\n",
              "</table>\n",
              "</div>\n",
              "      <button class=\"colab-df-convert\" onclick=\"convertToInteractive('df-ed6b0ac5-3bc8-4e86-bcf2-931f36c962b7')\"\n",
              "              title=\"Convert this dataframe to an interactive table.\"\n",
              "              style=\"display:none;\">\n",
              "        \n",
              "  <svg xmlns=\"http://www.w3.org/2000/svg\" height=\"24px\"viewBox=\"0 0 24 24\"\n",
              "       width=\"24px\">\n",
              "    <path d=\"M0 0h24v24H0V0z\" fill=\"none\"/>\n",
              "    <path d=\"M18.56 5.44l.94 2.06.94-2.06 2.06-.94-2.06-.94-.94-2.06-.94 2.06-2.06.94zm-11 1L8.5 8.5l.94-2.06 2.06-.94-2.06-.94L8.5 2.5l-.94 2.06-2.06.94zm10 10l.94 2.06.94-2.06 2.06-.94-2.06-.94-.94-2.06-.94 2.06-2.06.94z\"/><path d=\"M17.41 7.96l-1.37-1.37c-.4-.4-.92-.59-1.43-.59-.52 0-1.04.2-1.43.59L10.3 9.45l-7.72 7.72c-.78.78-.78 2.05 0 2.83L4 21.41c.39.39.9.59 1.41.59.51 0 1.02-.2 1.41-.59l7.78-7.78 2.81-2.81c.8-.78.8-2.07 0-2.86zM5.41 20L4 18.59l7.72-7.72 1.47 1.35L5.41 20z\"/>\n",
              "  </svg>\n",
              "      </button>\n",
              "      \n",
              "  <style>\n",
              "    .colab-df-container {\n",
              "      display:flex;\n",
              "      flex-wrap:wrap;\n",
              "      gap: 12px;\n",
              "    }\n",
              "\n",
              "    .colab-df-convert {\n",
              "      background-color: #E8F0FE;\n",
              "      border: none;\n",
              "      border-radius: 50%;\n",
              "      cursor: pointer;\n",
              "      display: none;\n",
              "      fill: #1967D2;\n",
              "      height: 32px;\n",
              "      padding: 0 0 0 0;\n",
              "      width: 32px;\n",
              "    }\n",
              "\n",
              "    .colab-df-convert:hover {\n",
              "      background-color: #E2EBFA;\n",
              "      box-shadow: 0px 1px 2px rgba(60, 64, 67, 0.3), 0px 1px 3px 1px rgba(60, 64, 67, 0.15);\n",
              "      fill: #174EA6;\n",
              "    }\n",
              "\n",
              "    [theme=dark] .colab-df-convert {\n",
              "      background-color: #3B4455;\n",
              "      fill: #D2E3FC;\n",
              "    }\n",
              "\n",
              "    [theme=dark] .colab-df-convert:hover {\n",
              "      background-color: #434B5C;\n",
              "      box-shadow: 0px 1px 3px 1px rgba(0, 0, 0, 0.15);\n",
              "      filter: drop-shadow(0px 1px 2px rgba(0, 0, 0, 0.3));\n",
              "      fill: #FFFFFF;\n",
              "    }\n",
              "  </style>\n",
              "\n",
              "      <script>\n",
              "        const buttonEl =\n",
              "          document.querySelector('#df-ed6b0ac5-3bc8-4e86-bcf2-931f36c962b7 button.colab-df-convert');\n",
              "        buttonEl.style.display =\n",
              "          google.colab.kernel.accessAllowed ? 'block' : 'none';\n",
              "\n",
              "        async function convertToInteractive(key) {\n",
              "          const element = document.querySelector('#df-ed6b0ac5-3bc8-4e86-bcf2-931f36c962b7');\n",
              "          const dataTable =\n",
              "            await google.colab.kernel.invokeFunction('convertToInteractive',\n",
              "                                                     [key], {});\n",
              "          if (!dataTable) return;\n",
              "\n",
              "          const docLinkHtml = 'Like what you see? Visit the ' +\n",
              "            '<a target=\"_blank\" href=https://colab.research.google.com/notebooks/data_table.ipynb>data table notebook</a>'\n",
              "            + ' to learn more about interactive tables.';\n",
              "          element.innerHTML = '';\n",
              "          dataTable['output_type'] = 'display_data';\n",
              "          await google.colab.output.renderOutput(dataTable, element);\n",
              "          const docLink = document.createElement('div');\n",
              "          docLink.innerHTML = docLinkHtml;\n",
              "          element.appendChild(docLink);\n",
              "        }\n",
              "      </script>\n",
              "    </div>\n",
              "  </div>\n",
              "  "
            ]
          },
          "metadata": {},
          "execution_count": 3
        }
      ],
      "source": [
        "import pandas as pd\n",
        "\n",
        "data = pd.read_csv(\"/content/drive/MyDrive/6th sem/diabetes (2).csv\")\n",
        "data.head(1)"
      ]
    },
    {
      "cell_type": "code",
      "source": [
        "data.tail(1)"
      ],
      "metadata": {
        "colab": {
          "base_uri": "https://localhost:8080/",
          "height": 81
        },
        "id": "GJmfUkGxyCl3",
        "outputId": "6b26387f-2ebb-422b-b442-c3d8d8313425"
      },
      "execution_count": 4,
      "outputs": [
        {
          "output_type": "execute_result",
          "data": {
            "text/plain": [
              "     Pregnancies  Glucose  BloodPressure  SkinThickness  Insulin   BMI  \\\n",
              "767            1       93             70             31        0  30.4   \n",
              "\n",
              "     DiabetesPedigreeFunction  Age  Outcome  \n",
              "767                     0.315   23        0  "
            ],
            "text/html": [
              "\n",
              "  <div id=\"df-bcaa5e24-712a-4af7-80da-a8e65ef11fa7\">\n",
              "    <div class=\"colab-df-container\">\n",
              "      <div>\n",
              "<style scoped>\n",
              "    .dataframe tbody tr th:only-of-type {\n",
              "        vertical-align: middle;\n",
              "    }\n",
              "\n",
              "    .dataframe tbody tr th {\n",
              "        vertical-align: top;\n",
              "    }\n",
              "\n",
              "    .dataframe thead th {\n",
              "        text-align: right;\n",
              "    }\n",
              "</style>\n",
              "<table border=\"1\" class=\"dataframe\">\n",
              "  <thead>\n",
              "    <tr style=\"text-align: right;\">\n",
              "      <th></th>\n",
              "      <th>Pregnancies</th>\n",
              "      <th>Glucose</th>\n",
              "      <th>BloodPressure</th>\n",
              "      <th>SkinThickness</th>\n",
              "      <th>Insulin</th>\n",
              "      <th>BMI</th>\n",
              "      <th>DiabetesPedigreeFunction</th>\n",
              "      <th>Age</th>\n",
              "      <th>Outcome</th>\n",
              "    </tr>\n",
              "  </thead>\n",
              "  <tbody>\n",
              "    <tr>\n",
              "      <th>767</th>\n",
              "      <td>1</td>\n",
              "      <td>93</td>\n",
              "      <td>70</td>\n",
              "      <td>31</td>\n",
              "      <td>0</td>\n",
              "      <td>30.4</td>\n",
              "      <td>0.315</td>\n",
              "      <td>23</td>\n",
              "      <td>0</td>\n",
              "    </tr>\n",
              "  </tbody>\n",
              "</table>\n",
              "</div>\n",
              "      <button class=\"colab-df-convert\" onclick=\"convertToInteractive('df-bcaa5e24-712a-4af7-80da-a8e65ef11fa7')\"\n",
              "              title=\"Convert this dataframe to an interactive table.\"\n",
              "              style=\"display:none;\">\n",
              "        \n",
              "  <svg xmlns=\"http://www.w3.org/2000/svg\" height=\"24px\"viewBox=\"0 0 24 24\"\n",
              "       width=\"24px\">\n",
              "    <path d=\"M0 0h24v24H0V0z\" fill=\"none\"/>\n",
              "    <path d=\"M18.56 5.44l.94 2.06.94-2.06 2.06-.94-2.06-.94-.94-2.06-.94 2.06-2.06.94zm-11 1L8.5 8.5l.94-2.06 2.06-.94-2.06-.94L8.5 2.5l-.94 2.06-2.06.94zm10 10l.94 2.06.94-2.06 2.06-.94-2.06-.94-.94-2.06-.94 2.06-2.06.94z\"/><path d=\"M17.41 7.96l-1.37-1.37c-.4-.4-.92-.59-1.43-.59-.52 0-1.04.2-1.43.59L10.3 9.45l-7.72 7.72c-.78.78-.78 2.05 0 2.83L4 21.41c.39.39.9.59 1.41.59.51 0 1.02-.2 1.41-.59l7.78-7.78 2.81-2.81c.8-.78.8-2.07 0-2.86zM5.41 20L4 18.59l7.72-7.72 1.47 1.35L5.41 20z\"/>\n",
              "  </svg>\n",
              "      </button>\n",
              "      \n",
              "  <style>\n",
              "    .colab-df-container {\n",
              "      display:flex;\n",
              "      flex-wrap:wrap;\n",
              "      gap: 12px;\n",
              "    }\n",
              "\n",
              "    .colab-df-convert {\n",
              "      background-color: #E8F0FE;\n",
              "      border: none;\n",
              "      border-radius: 50%;\n",
              "      cursor: pointer;\n",
              "      display: none;\n",
              "      fill: #1967D2;\n",
              "      height: 32px;\n",
              "      padding: 0 0 0 0;\n",
              "      width: 32px;\n",
              "    }\n",
              "\n",
              "    .colab-df-convert:hover {\n",
              "      background-color: #E2EBFA;\n",
              "      box-shadow: 0px 1px 2px rgba(60, 64, 67, 0.3), 0px 1px 3px 1px rgba(60, 64, 67, 0.15);\n",
              "      fill: #174EA6;\n",
              "    }\n",
              "\n",
              "    [theme=dark] .colab-df-convert {\n",
              "      background-color: #3B4455;\n",
              "      fill: #D2E3FC;\n",
              "    }\n",
              "\n",
              "    [theme=dark] .colab-df-convert:hover {\n",
              "      background-color: #434B5C;\n",
              "      box-shadow: 0px 1px 3px 1px rgba(0, 0, 0, 0.15);\n",
              "      filter: drop-shadow(0px 1px 2px rgba(0, 0, 0, 0.3));\n",
              "      fill: #FFFFFF;\n",
              "    }\n",
              "  </style>\n",
              "\n",
              "      <script>\n",
              "        const buttonEl =\n",
              "          document.querySelector('#df-bcaa5e24-712a-4af7-80da-a8e65ef11fa7 button.colab-df-convert');\n",
              "        buttonEl.style.display =\n",
              "          google.colab.kernel.accessAllowed ? 'block' : 'none';\n",
              "\n",
              "        async function convertToInteractive(key) {\n",
              "          const element = document.querySelector('#df-bcaa5e24-712a-4af7-80da-a8e65ef11fa7');\n",
              "          const dataTable =\n",
              "            await google.colab.kernel.invokeFunction('convertToInteractive',\n",
              "                                                     [key], {});\n",
              "          if (!dataTable) return;\n",
              "\n",
              "          const docLinkHtml = 'Like what you see? Visit the ' +\n",
              "            '<a target=\"_blank\" href=https://colab.research.google.com/notebooks/data_table.ipynb>data table notebook</a>'\n",
              "            + ' to learn more about interactive tables.';\n",
              "          element.innerHTML = '';\n",
              "          dataTable['output_type'] = 'display_data';\n",
              "          await google.colab.output.renderOutput(dataTable, element);\n",
              "          const docLink = document.createElement('div');\n",
              "          docLink.innerHTML = docLinkHtml;\n",
              "          element.appendChild(docLink);\n",
              "        }\n",
              "      </script>\n",
              "    </div>\n",
              "  </div>\n",
              "  "
            ]
          },
          "metadata": {},
          "execution_count": 4
        }
      ]
    },
    {
      "cell_type": "code",
      "source": [
        "data.columns"
      ],
      "metadata": {
        "colab": {
          "base_uri": "https://localhost:8080/"
        },
        "id": "rOFYHDwEyuNK",
        "outputId": "59b8061b-102e-4d47-ef40-8616eb8d2aa0"
      },
      "execution_count": 5,
      "outputs": [
        {
          "output_type": "execute_result",
          "data": {
            "text/plain": [
              "Index(['Pregnancies', 'Glucose', 'BloodPressure', 'SkinThickness', 'Insulin',\n",
              "       'BMI', 'DiabetesPedigreeFunction', 'Age', 'Outcome'],\n",
              "      dtype='object')"
            ]
          },
          "metadata": {},
          "execution_count": 5
        }
      ]
    },
    {
      "cell_type": "code",
      "source": [
        "data.values"
      ],
      "metadata": {
        "colab": {
          "base_uri": "https://localhost:8080/"
        },
        "id": "ySUjc8WqzT78",
        "outputId": "5705f4a6-ba6b-4418-dad8-4bacb63ca165"
      },
      "execution_count": 6,
      "outputs": [
        {
          "output_type": "execute_result",
          "data": {
            "text/plain": [
              "array([[  6.   , 148.   ,  72.   , ...,   0.627,  50.   ,   1.   ],\n",
              "       [  1.   ,  85.   ,  66.   , ...,   0.351,  31.   ,   0.   ],\n",
              "       [  8.   , 183.   ,  64.   , ...,   0.672,  32.   ,   1.   ],\n",
              "       ...,\n",
              "       [  5.   , 121.   ,  72.   , ...,   0.245,  30.   ,   0.   ],\n",
              "       [  1.   , 126.   ,  60.   , ...,   0.349,  47.   ,   1.   ],\n",
              "       [  1.   ,  93.   ,  70.   , ...,   0.315,  23.   ,   0.   ]])"
            ]
          },
          "metadata": {},
          "execution_count": 6
        }
      ]
    },
    {
      "cell_type": "code",
      "source": [
        "dataset=data.values\n",
        "x=dataset[:,0:8]\n",
        "y=dataset[:,8]\n",
        "print(x)\n",
        "print(y)"
      ],
      "metadata": {
        "colab": {
          "base_uri": "https://localhost:8080/"
        },
        "id": "GOawfW-pzodA",
        "outputId": "d41cff56-63d2-49af-c0b2-5d2890f1489a"
      },
      "execution_count": 7,
      "outputs": [
        {
          "output_type": "stream",
          "name": "stdout",
          "text": [
            "[[  6.    148.     72.    ...  33.6     0.627  50.   ]\n",
            " [  1.     85.     66.    ...  26.6     0.351  31.   ]\n",
            " [  8.    183.     64.    ...  23.3     0.672  32.   ]\n",
            " ...\n",
            " [  5.    121.     72.    ...  26.2     0.245  30.   ]\n",
            " [  1.    126.     60.    ...  30.1     0.349  47.   ]\n",
            " [  1.     93.     70.    ...  30.4     0.315  23.   ]]\n",
            "[1. 0. 1. 0. 1. 0. 1. 0. 1. 1. 0. 1. 0. 1. 1. 1. 1. 1. 0. 1. 0. 0. 1. 1.\n",
            " 1. 1. 1. 0. 0. 0. 0. 1. 0. 0. 0. 0. 0. 1. 1. 1. 0. 0. 0. 1. 0. 1. 0. 0.\n",
            " 1. 0. 0. 0. 0. 1. 0. 0. 1. 0. 0. 0. 0. 1. 0. 0. 1. 0. 1. 0. 0. 0. 1. 0.\n",
            " 1. 0. 0. 0. 0. 0. 1. 0. 0. 0. 0. 0. 1. 0. 0. 0. 1. 0. 0. 0. 0. 1. 0. 0.\n",
            " 0. 0. 0. 1. 1. 0. 0. 0. 0. 0. 0. 0. 0. 1. 1. 1. 0. 0. 1. 1. 1. 0. 0. 0.\n",
            " 1. 0. 0. 0. 1. 1. 0. 0. 1. 1. 1. 1. 1. 0. 0. 0. 0. 0. 0. 0. 0. 0. 0. 1.\n",
            " 0. 0. 0. 0. 0. 0. 0. 0. 1. 0. 1. 1. 0. 0. 0. 1. 0. 0. 0. 0. 1. 1. 0. 0.\n",
            " 0. 0. 1. 1. 0. 0. 0. 1. 0. 1. 0. 1. 0. 0. 0. 0. 0. 1. 1. 1. 1. 1. 0. 0.\n",
            " 1. 1. 0. 1. 0. 1. 1. 1. 0. 0. 0. 0. 0. 0. 1. 1. 0. 1. 0. 0. 0. 1. 1. 1.\n",
            " 1. 0. 1. 1. 1. 1. 0. 0. 0. 0. 0. 1. 0. 0. 1. 1. 0. 0. 0. 1. 1. 1. 1. 0.\n",
            " 0. 0. 1. 1. 0. 1. 0. 0. 0. 0. 0. 0. 0. 0. 1. 1. 0. 0. 0. 1. 0. 1. 0. 0.\n",
            " 1. 0. 1. 0. 0. 1. 1. 0. 0. 0. 0. 0. 1. 0. 0. 0. 1. 0. 0. 1. 1. 0. 0. 1.\n",
            " 0. 0. 0. 1. 1. 1. 0. 0. 1. 0. 1. 0. 1. 1. 0. 1. 0. 0. 1. 0. 1. 1. 0. 0.\n",
            " 1. 0. 1. 0. 0. 1. 0. 1. 0. 1. 1. 1. 0. 0. 1. 0. 1. 0. 0. 0. 1. 0. 0. 0.\n",
            " 0. 1. 1. 1. 0. 0. 0. 0. 0. 0. 0. 0. 0. 1. 0. 0. 0. 0. 0. 1. 1. 1. 0. 1.\n",
            " 1. 0. 0. 1. 0. 0. 1. 0. 0. 1. 1. 0. 0. 0. 0. 1. 0. 0. 1. 0. 0. 0. 0. 0.\n",
            " 0. 0. 1. 1. 1. 0. 0. 1. 0. 0. 1. 0. 0. 1. 0. 1. 1. 0. 1. 0. 1. 0. 1. 0.\n",
            " 1. 1. 0. 0. 0. 0. 1. 1. 0. 1. 0. 1. 0. 0. 0. 0. 1. 1. 0. 1. 0. 1. 0. 0.\n",
            " 0. 0. 0. 1. 0. 0. 0. 0. 1. 0. 0. 1. 1. 1. 0. 0. 1. 0. 0. 1. 0. 0. 0. 1.\n",
            " 0. 0. 1. 0. 0. 0. 0. 0. 0. 0. 0. 0. 1. 0. 0. 0. 0. 0. 0. 0. 1. 0. 0. 0.\n",
            " 1. 0. 0. 0. 1. 1. 0. 0. 0. 0. 0. 0. 0. 1. 0. 0. 0. 0. 1. 0. 0. 0. 1. 0.\n",
            " 0. 0. 1. 0. 0. 0. 1. 0. 0. 0. 0. 1. 1. 0. 0. 0. 0. 0. 0. 1. 0. 0. 0. 0.\n",
            " 0. 0. 0. 0. 0. 0. 0. 1. 0. 0. 0. 1. 1. 1. 1. 0. 0. 1. 1. 0. 0. 0. 0. 0.\n",
            " 0. 0. 0. 0. 0. 0. 0. 0. 1. 1. 0. 0. 0. 0. 0. 0. 0. 1. 0. 0. 0. 0. 0. 0.\n",
            " 0. 1. 0. 1. 1. 0. 0. 0. 1. 0. 1. 0. 1. 0. 1. 0. 1. 0. 0. 1. 0. 0. 1. 0.\n",
            " 0. 0. 0. 1. 1. 0. 1. 0. 0. 0. 0. 1. 1. 0. 1. 0. 0. 0. 1. 1. 0. 0. 0. 0.\n",
            " 0. 0. 0. 0. 0. 0. 1. 0. 0. 0. 0. 1. 0. 0. 1. 0. 0. 0. 1. 0. 0. 0. 1. 1.\n",
            " 1. 0. 0. 0. 0. 0. 0. 1. 0. 0. 0. 1. 0. 1. 1. 1. 1. 0. 1. 1. 0. 0. 0. 0.\n",
            " 0. 0. 0. 1. 1. 0. 1. 0. 0. 1. 0. 1. 0. 0. 0. 0. 0. 1. 0. 1. 0. 1. 0. 1.\n",
            " 1. 0. 0. 0. 0. 1. 1. 0. 0. 0. 1. 0. 1. 1. 0. 0. 1. 0. 0. 1. 1. 0. 0. 1.\n",
            " 0. 0. 1. 0. 0. 0. 0. 0. 0. 0. 1. 1. 1. 0. 0. 0. 0. 0. 0. 1. 1. 0. 0. 1.\n",
            " 0. 0. 1. 0. 1. 1. 1. 0. 0. 1. 1. 1. 0. 1. 0. 1. 0. 1. 0. 0. 0. 0. 1. 0.]\n"
          ]
        }
      ]
    },
    {
      "cell_type": "code",
      "source": [
        "from sklearn import preprocessing\n",
        "min_max_scaler=preprocessing.MinMaxScaler()\n",
        "X_scale=min_max_scaler.fit_transform(x)\n",
        "X_scale"
      ],
      "metadata": {
        "colab": {
          "base_uri": "https://localhost:8080/"
        },
        "id": "oOXtl8dSzirc",
        "outputId": "c810c4ec-e208-4690-ae3d-eaebca414968"
      },
      "execution_count": 8,
      "outputs": [
        {
          "output_type": "execute_result",
          "data": {
            "text/plain": [
              "array([[0.35294118, 0.74371859, 0.59016393, ..., 0.50074516, 0.23441503,\n",
              "        0.48333333],\n",
              "       [0.05882353, 0.42713568, 0.54098361, ..., 0.39642325, 0.11656704,\n",
              "        0.16666667],\n",
              "       [0.47058824, 0.91959799, 0.52459016, ..., 0.34724292, 0.25362938,\n",
              "        0.18333333],\n",
              "       ...,\n",
              "       [0.29411765, 0.6080402 , 0.59016393, ..., 0.390462  , 0.07130658,\n",
              "        0.15      ],\n",
              "       [0.05882353, 0.63316583, 0.49180328, ..., 0.4485842 , 0.11571307,\n",
              "        0.43333333],\n",
              "       [0.05882353, 0.46733668, 0.57377049, ..., 0.45305514, 0.10119556,\n",
              "        0.03333333]])"
            ]
          },
          "metadata": {},
          "execution_count": 8
        }
      ]
    },
    {
      "cell_type": "code",
      "source": [
        "from keras.utils import np_utils\n",
        "encoded_y=np_utils.to_categorical(y)\n",
        "encoded_y"
      ],
      "metadata": {
        "colab": {
          "base_uri": "https://localhost:8080/"
        },
        "id": "fz3yYhUQ2irf",
        "outputId": "dae6c56a-67bf-4110-9d32-f6bab1af2627"
      },
      "execution_count": 9,
      "outputs": [
        {
          "output_type": "execute_result",
          "data": {
            "text/plain": [
              "array([[0., 1.],\n",
              "       [1., 0.],\n",
              "       [0., 1.],\n",
              "       ...,\n",
              "       [1., 0.],\n",
              "       [0., 1.],\n",
              "       [1., 0.]], dtype=float32)"
            ]
          },
          "metadata": {},
          "execution_count": 9
        }
      ]
    },
    {
      "cell_type": "code",
      "source": [
        "from sklearn.model_selection import train_test_split\n",
        "x_training,x_testing,y_training,y_testing=train_test_split(X_scale,encoded_y,test_size=0.2,random_state=10)\n",
        "x_training,x_valid,y_training,y_valid=train_test_split(x_training,y_training,test_size=0.2,random_state=10)\n",
        "print(len(x_training))\n",
        "print(len(x_testing))\n",
        "print(len(x_valid))"
      ],
      "metadata": {
        "colab": {
          "base_uri": "https://localhost:8080/"
        },
        "id": "Re01X7nj4h15",
        "outputId": "73a10789-225f-49ec-f140-cb6ff28c6fba"
      },
      "execution_count": 10,
      "outputs": [
        {
          "output_type": "stream",
          "name": "stdout",
          "text": [
            "491\n",
            "154\n",
            "123\n"
          ]
        }
      ]
    },
    {
      "cell_type": "code",
      "source": [
        "from keras.models import Sequential\n",
        "from keras.layers import Dense\n",
        "#Creating the model\n",
        "model=Sequential()\n",
        "model.add(Dense(24,input_shape=(8,),activation='relu'))\n",
        "model.add(Dense(20,activation='relu'))\n",
        "model.add(Dense(12,activation='tanh'))\n",
        "model.add(Dense(8,activation='relu'))\n",
        "model.add(Dense(2,activation='softmax'))\n",
        "model.summary()  "
      ],
      "metadata": {
        "colab": {
          "base_uri": "https://localhost:8080/"
        },
        "id": "AC3YLPvr7oz0",
        "outputId": "f72b0b64-e145-49d7-9db6-cb80580b88f6"
      },
      "execution_count": 11,
      "outputs": [
        {
          "output_type": "stream",
          "name": "stdout",
          "text": [
            "Model: \"sequential\"\n",
            "_________________________________________________________________\n",
            " Layer (type)                Output Shape              Param #   \n",
            "=================================================================\n",
            " dense (Dense)               (None, 24)                216       \n",
            "                                                                 \n",
            " dense_1 (Dense)             (None, 20)                500       \n",
            "                                                                 \n",
            " dense_2 (Dense)             (None, 12)                252       \n",
            "                                                                 \n",
            " dense_3 (Dense)             (None, 8)                 104       \n",
            "                                                                 \n",
            " dense_4 (Dense)             (None, 2)                 18        \n",
            "                                                                 \n",
            "=================================================================\n",
            "Total params: 1,090\n",
            "Trainable params: 1,090\n",
            "Non-trainable params: 0\n",
            "_________________________________________________________________\n"
          ]
        }
      ]
    },
    {
      "cell_type": "code",
      "source": [
        "from tensorflow.keras import optimizers\n",
        "opt=optimizers.SGD(learning_rate=0.01)\n",
        "model.compile(loss='categorical_crossentropy',optimizer=opt,metrics=['accuracy'])"
      ],
      "metadata": {
        "id": "WH-Ivhbk9b4Q"
      },
      "execution_count": 12,
      "outputs": []
    },
    {
      "cell_type": "code",
      "source": [
        "hist=model.fit(x_training,y_training,batch_size=4,epochs=50,validation_data=(x_valid,y_valid))"
      ],
      "metadata": {
        "colab": {
          "base_uri": "https://localhost:8080/"
        },
        "id": "SHyv4egk-24i",
        "outputId": "86d135c7-e137-468a-9fae-5e8d06dcfbbe"
      },
      "execution_count": 15,
      "outputs": [
        {
          "output_type": "stream",
          "name": "stdout",
          "text": [
            "Epoch 1/50\n",
            "123/123 [==============================] - 0s 4ms/step - loss: 0.5780 - accuracy: 0.7067 - val_loss: 0.5851 - val_accuracy: 0.6829\n",
            "Epoch 2/50\n",
            "123/123 [==============================] - 1s 4ms/step - loss: 0.5613 - accuracy: 0.7149 - val_loss: 0.6001 - val_accuracy: 0.6667\n",
            "Epoch 3/50\n",
            "123/123 [==============================] - 0s 2ms/step - loss: 0.5495 - accuracy: 0.7189 - val_loss: 0.5711 - val_accuracy: 0.7154\n",
            "Epoch 4/50\n",
            "123/123 [==============================] - 0s 2ms/step - loss: 0.5375 - accuracy: 0.7251 - val_loss: 0.5381 - val_accuracy: 0.7317\n",
            "Epoch 5/50\n",
            "123/123 [==============================] - 0s 2ms/step - loss: 0.5307 - accuracy: 0.7291 - val_loss: 0.5271 - val_accuracy: 0.7398\n",
            "Epoch 6/50\n",
            "123/123 [==============================] - 0s 2ms/step - loss: 0.5220 - accuracy: 0.7271 - val_loss: 0.5391 - val_accuracy: 0.7317\n",
            "Epoch 7/50\n",
            "123/123 [==============================] - 0s 2ms/step - loss: 0.5137 - accuracy: 0.7393 - val_loss: 0.5098 - val_accuracy: 0.7561\n",
            "Epoch 8/50\n",
            "123/123 [==============================] - 0s 2ms/step - loss: 0.5061 - accuracy: 0.7556 - val_loss: 0.5003 - val_accuracy: 0.7480\n",
            "Epoch 9/50\n",
            "123/123 [==============================] - 0s 2ms/step - loss: 0.4910 - accuracy: 0.7617 - val_loss: 0.5284 - val_accuracy: 0.7561\n",
            "Epoch 10/50\n",
            "123/123 [==============================] - 0s 2ms/step - loss: 0.5038 - accuracy: 0.7475 - val_loss: 0.4862 - val_accuracy: 0.7561\n",
            "Epoch 11/50\n",
            "123/123 [==============================] - 0s 2ms/step - loss: 0.5014 - accuracy: 0.7495 - val_loss: 0.4786 - val_accuracy: 0.7967\n",
            "Epoch 12/50\n",
            "123/123 [==============================] - 0s 2ms/step - loss: 0.4941 - accuracy: 0.7475 - val_loss: 0.4779 - val_accuracy: 0.7561\n",
            "Epoch 13/50\n",
            "123/123 [==============================] - 0s 2ms/step - loss: 0.4878 - accuracy: 0.7678 - val_loss: 0.6178 - val_accuracy: 0.6504\n",
            "Epoch 14/50\n",
            "123/123 [==============================] - 0s 2ms/step - loss: 0.4943 - accuracy: 0.7475 - val_loss: 0.4657 - val_accuracy: 0.7886\n",
            "Epoch 15/50\n",
            "123/123 [==============================] - 0s 2ms/step - loss: 0.4831 - accuracy: 0.7597 - val_loss: 0.4745 - val_accuracy: 0.7967\n",
            "Epoch 16/50\n",
            "123/123 [==============================] - 0s 2ms/step - loss: 0.4838 - accuracy: 0.7719 - val_loss: 0.4621 - val_accuracy: 0.7805\n",
            "Epoch 17/50\n",
            "123/123 [==============================] - 0s 2ms/step - loss: 0.4834 - accuracy: 0.7637 - val_loss: 0.4567 - val_accuracy: 0.7886\n",
            "Epoch 18/50\n",
            "123/123 [==============================] - 0s 2ms/step - loss: 0.4794 - accuracy: 0.7658 - val_loss: 0.4582 - val_accuracy: 0.7886\n",
            "Epoch 19/50\n",
            "123/123 [==============================] - 0s 2ms/step - loss: 0.4822 - accuracy: 0.7760 - val_loss: 0.4617 - val_accuracy: 0.7724\n",
            "Epoch 20/50\n",
            "123/123 [==============================] - 0s 2ms/step - loss: 0.4829 - accuracy: 0.7739 - val_loss: 0.4569 - val_accuracy: 0.7886\n",
            "Epoch 21/50\n",
            "123/123 [==============================] - 0s 2ms/step - loss: 0.4760 - accuracy: 0.7597 - val_loss: 0.4771 - val_accuracy: 0.7967\n",
            "Epoch 22/50\n",
            "123/123 [==============================] - 0s 2ms/step - loss: 0.4745 - accuracy: 0.7841 - val_loss: 0.4504 - val_accuracy: 0.7967\n",
            "Epoch 23/50\n",
            "123/123 [==============================] - 0s 2ms/step - loss: 0.4725 - accuracy: 0.7617 - val_loss: 0.4613 - val_accuracy: 0.8049\n",
            "Epoch 24/50\n",
            "123/123 [==============================] - 0s 2ms/step - loss: 0.4477 - accuracy: 0.7984 - val_loss: 0.6406 - val_accuracy: 0.6423\n",
            "Epoch 25/50\n",
            "123/123 [==============================] - 0s 2ms/step - loss: 0.4760 - accuracy: 0.7780 - val_loss: 0.4725 - val_accuracy: 0.8049\n",
            "Epoch 26/50\n",
            "123/123 [==============================] - 0s 2ms/step - loss: 0.4771 - accuracy: 0.7739 - val_loss: 0.4454 - val_accuracy: 0.7967\n",
            "Epoch 27/50\n",
            "123/123 [==============================] - 0s 2ms/step - loss: 0.4680 - accuracy: 0.7780 - val_loss: 0.4434 - val_accuracy: 0.7967\n",
            "Epoch 28/50\n",
            "123/123 [==============================] - 0s 2ms/step - loss: 0.4655 - accuracy: 0.7739 - val_loss: 0.4473 - val_accuracy: 0.8049\n",
            "Epoch 29/50\n",
            "123/123 [==============================] - 0s 2ms/step - loss: 0.4801 - accuracy: 0.7699 - val_loss: 0.4468 - val_accuracy: 0.7886\n",
            "Epoch 30/50\n",
            "123/123 [==============================] - 0s 2ms/step - loss: 0.4761 - accuracy: 0.7780 - val_loss: 0.4558 - val_accuracy: 0.7967\n",
            "Epoch 31/50\n",
            "123/123 [==============================] - 0s 2ms/step - loss: 0.4632 - accuracy: 0.7984 - val_loss: 0.4624 - val_accuracy: 0.8049\n",
            "Epoch 32/50\n",
            "123/123 [==============================] - 0s 2ms/step - loss: 0.4774 - accuracy: 0.7678 - val_loss: 0.4464 - val_accuracy: 0.7967\n",
            "Epoch 33/50\n",
            "123/123 [==============================] - 0s 2ms/step - loss: 0.4724 - accuracy: 0.7780 - val_loss: 0.4710 - val_accuracy: 0.7967\n",
            "Epoch 34/50\n",
            "123/123 [==============================] - 0s 2ms/step - loss: 0.4599 - accuracy: 0.7923 - val_loss: 0.4552 - val_accuracy: 0.7886\n",
            "Epoch 35/50\n",
            "123/123 [==============================] - 0s 2ms/step - loss: 0.4692 - accuracy: 0.7597 - val_loss: 0.4464 - val_accuracy: 0.7967\n",
            "Epoch 36/50\n",
            "123/123 [==============================] - 0s 2ms/step - loss: 0.4703 - accuracy: 0.7576 - val_loss: 0.4469 - val_accuracy: 0.7886\n",
            "Epoch 37/50\n",
            "123/123 [==============================] - 0s 2ms/step - loss: 0.4698 - accuracy: 0.7760 - val_loss: 0.4448 - val_accuracy: 0.7967\n",
            "Epoch 38/50\n",
            "123/123 [==============================] - 0s 2ms/step - loss: 0.4687 - accuracy: 0.7841 - val_loss: 0.4470 - val_accuracy: 0.7967\n",
            "Epoch 39/50\n",
            "123/123 [==============================] - 0s 2ms/step - loss: 0.4675 - accuracy: 0.7597 - val_loss: 0.4456 - val_accuracy: 0.7967\n",
            "Epoch 40/50\n",
            "123/123 [==============================] - 0s 2ms/step - loss: 0.4627 - accuracy: 0.7882 - val_loss: 0.5000 - val_accuracy: 0.8049\n",
            "Epoch 41/50\n",
            "123/123 [==============================] - 0s 2ms/step - loss: 0.4616 - accuracy: 0.7821 - val_loss: 0.4603 - val_accuracy: 0.7967\n",
            "Epoch 42/50\n",
            "123/123 [==============================] - 0s 2ms/step - loss: 0.4654 - accuracy: 0.7800 - val_loss: 0.4425 - val_accuracy: 0.8049\n",
            "Epoch 43/50\n",
            "123/123 [==============================] - 0s 2ms/step - loss: 0.4670 - accuracy: 0.7719 - val_loss: 0.4416 - val_accuracy: 0.7886\n",
            "Epoch 44/50\n",
            "123/123 [==============================] - 0s 2ms/step - loss: 0.4676 - accuracy: 0.7678 - val_loss: 0.4414 - val_accuracy: 0.7886\n",
            "Epoch 45/50\n",
            "123/123 [==============================] - 0s 2ms/step - loss: 0.4622 - accuracy: 0.7739 - val_loss: 0.4506 - val_accuracy: 0.8211\n",
            "Epoch 46/50\n",
            "123/123 [==============================] - 0s 2ms/step - loss: 0.4674 - accuracy: 0.7780 - val_loss: 0.4522 - val_accuracy: 0.8130\n",
            "Epoch 47/50\n",
            "123/123 [==============================] - 0s 2ms/step - loss: 0.4576 - accuracy: 0.7556 - val_loss: 0.4530 - val_accuracy: 0.7967\n",
            "Epoch 48/50\n",
            "123/123 [==============================] - 0s 2ms/step - loss: 0.4608 - accuracy: 0.7658 - val_loss: 0.4659 - val_accuracy: 0.7967\n",
            "Epoch 49/50\n",
            "123/123 [==============================] - 0s 2ms/step - loss: 0.4672 - accuracy: 0.7658 - val_loss: 0.4627 - val_accuracy: 0.8130\n",
            "Epoch 50/50\n",
            "123/123 [==============================] - 0s 2ms/step - loss: 0.4584 - accuracy: 0.7699 - val_loss: 0.4555 - val_accuracy: 0.8049\n"
          ]
        }
      ]
    },
    {
      "cell_type": "code",
      "source": [
        "import matplotlib.pyplot as plt \n",
        "acc = hist.history['accuracy']\n",
        "val_acc = hist.history['val_accuracy']\n",
        "loss = hist.history['loss']\n",
        "val_loss = hist.history['val_loss']\n",
        " \n",
        "epochs = range(len(acc))\n",
        " \n",
        "plt.plot(epochs, acc, 'b', label='Training acc')\n",
        "plt.plot(epochs, val_acc, 'r', label='Validation acc')\n",
        "plt.title('Training and validation accuracy')\n",
        "plt.legend()\n",
        "plt.savefig('custom_trainvalacc.png')\n",
        "plt.figure()\n",
        " \n",
        "plt.plot(epochs, loss, 'b', label='Training loss')\n",
        "plt.plot(epochs, val_loss, 'r', label='Validation loss')\n",
        "plt.title('Training and validation loss')\n",
        "plt.legend()\n",
        " \n",
        "#plt.show()\n",
        "plt.savefig('custom_trainvalloss.png')\n",
        "plt.figure()"
      ],
      "metadata": {
        "colab": {
          "base_uri": "https://localhost:8080/",
          "height": 580
        },
        "id": "sR0P1zV9M6It",
        "outputId": "9a4b0192-e531-4183-8208-0a1432887651"
      },
      "execution_count": 16,
      "outputs": [
        {
          "output_type": "execute_result",
          "data": {
            "text/plain": [
              "<Figure size 432x288 with 0 Axes>"
            ]
          },
          "metadata": {},
          "execution_count": 16
        },
        {
          "output_type": "display_data",
          "data": {
            "text/plain": [
              "<Figure size 432x288 with 1 Axes>"
            ],
            "image/png": "[encoded data removed]"
          },
          "metadata": {
            "needs_background": "light"
          }
        },
        {
          "output_type": "display_data",
          "data": {
            "text/plain": [
              "<Figure size 432x288 with 1 Axes>"
            ],
            "image/png": "[encoded data removed]"
          },
          "metadata": {
            "needs_background": "light"
          }
        },
        {
          "output_type": "display_data",
          "data": {
            "text/plain": [
              "<Figure size 432x288 with 0 Axes>"
            ]
          },
          "metadata": {}
        }
      ]
    },
    {
      "cell_type": "code",
      "source": [
        "res=model.evaluate(x_testing,y_testing)"
      ],
      "metadata": {
        "colab": {
          "base_uri": "https://localhost:8080/"
        },
        "id": "u8dCyU4nP9bg",
        "outputId": "9074ad82-1b52-4882-dc4e-34dca8d35a0a"
      },
      "execution_count": 18,
      "outputs": [
        {
          "output_type": "stream",
          "name": "stdout",
          "text": [
            "5/5 [==============================] - 0s 3ms/step - loss: 0.5096 - accuracy: 0.7468\n"
          ]
        }
      ]
    },
    {
      "cell_type": "code",
      "source": [
        "test=x_testing[0]\n",
        "y_act=y_testing[0]\n",
        "result=model.predict(test.reshape(1,8))\n",
        "result"
      ],
      "metadata": {
        "colab": {
          "base_uri": "https://localhost:8080/"
        },
        "id": "9VlH-PEzR52f",
        "outputId": "678d7028-1d66-418f-b07e-297303be63b8"
      },
      "execution_count": 19,
      "outputs": [
        {
          "output_type": "execute_result",
          "data": {
            "text/plain": [
              "array([[0.46826804, 0.5317319 ]], dtype=float32)"
            ]
          },
          "metadata": {},
          "execution_count": 19
        }
      ]
    },
    {
      "cell_type": "code",
      "source": [
        "import numpy as np\n",
        "y_pred=np.round(result)\n",
        "print(\"Actual:\"+str(y_act))\n",
        "print(\"predicted:\"+str(y_pred))"
      ],
      "metadata": {
        "colab": {
          "base_uri": "https://localhost:8080/"
        },
        "id": "dfpZ1it0TYnS",
        "outputId": "51657daa-c268-4f05-810d-5775ea121a2c"
      },
      "execution_count": 20,
      "outputs": [
        {
          "output_type": "stream",
          "name": "stdout",
          "text": [
            "Actual:[1. 0.]\n",
            "predicted:[[0. 1.]]\n"
          ]
        }
      ]
    }
  ]
}